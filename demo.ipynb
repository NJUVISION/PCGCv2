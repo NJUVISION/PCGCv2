{
 "cells": [
  {
   "cell_type": "code",
   "execution_count": 1,
   "metadata": {
    "scrolled": true
   },
   "outputs": [],
   "source": [
    "import open3d as o3d"
   ]
  },
  {
   "cell_type": "code",
   "execution_count": 2,
   "metadata": {},
   "outputs": [],
   "source": [
    "import numpy as np\n",
    "# import h5py\n",
    "import os\n",
    "import glob\n",
    "import time\n",
    "import subprocess\n",
    "import torch\n",
    "import torch.nn as nn\n",
    "import MinkowskiEngine as ME\n",
    "import MinkowskiEngine.MinkowskiFunctional as MF\n",
    "# torch.backends.cudnn.deterministic=True"
   ]
  },
  {
   "cell_type": "code",
   "execution_count": 3,
   "metadata": {},
   "outputs": [
    {
     "name": "stdout",
     "output_type": "stream",
     "text": [
      "cuda\n"
     ]
    }
   ],
   "source": [
    "device = torch.device('cuda' if torch.cuda.is_available() else 'cpu')\n",
    "# device = 'cpu'\n",
    "print(device)"
   ]
  },
  {
   "cell_type": "markdown",
   "metadata": {},
   "source": [
    "## load data"
   ]
  },
  {
   "cell_type": "code",
   "execution_count": 7,
   "metadata": {},
   "outputs": [
    {
     "name": "stdout",
     "output_type": "stream",
     "text": [
      "testdata/8iVFB/longdress_vox10_1300_n.ply\n"
     ]
    }
   ],
   "source": [
    "filedir = 'testdata/8iVFB/longdress_vox10_1300_n.ply'\n",
    "print(filedir)"
   ]
  },
  {
   "cell_type": "code",
   "execution_count": 8,
   "metadata": {},
   "outputs": [],
   "source": [
    "from eval import partition_point_cloud, load_sp_tensor"
   ]
  },
  {
   "cell_type": "code",
   "execution_count": 9,
   "metadata": {},
   "outputs": [
    {
     "name": "stdout",
     "output_type": "stream",
     "text": [
      "num_points: 214491\n",
      "loading time: 0.2537\n"
     ]
    }
   ],
   "source": [
    "max_num = 3e5\n",
    "voxel_size = 1\n",
    "\n",
    "filedirs, nPart = partition_point_cloud(filedir, max_num)\n",
    "filedir = filedirs[0]\n",
    "\n",
    "pcd=o3d.io.read_point_cloud(filedir)\n",
    "num_points = len(np.asarray(pcd.points))\n",
    "print(\"num_points:\", num_points)\n",
    "\n",
    "start= time.time()\n",
    "x = load_sp_tensor(filedir, voxel_size=voxel_size).to(device)\n",
    "prefix = os.path.split(filedir)[-1].split('.')[0]\n",
    "print(\"loading time:\", round(time.time() - start, 4))"
   ]
  },
  {
   "cell_type": "markdown",
   "metadata": {},
   "source": [
    "## load model"
   ]
  },
  {
   "cell_type": "code",
   "execution_count": 10,
   "metadata": {},
   "outputs": [
    {
     "name": "stderr",
     "output_type": "stream",
     "text": [
      "/home/ubuntu/anaconda3/envs/py3-mink/lib/python3.7/site-packages/tensorflow/python/framework/dtypes.py:526: FutureWarning: Passing (type, 1) or '1type' as a synonym of type is deprecated; in a future version of numpy, it will be understood as (type, (1,)) / '(1,)type'.\n",
      "  _np_qint8 = np.dtype([(\"qint8\", np.int8, 1)])\n",
      "/home/ubuntu/anaconda3/envs/py3-mink/lib/python3.7/site-packages/tensorflow/python/framework/dtypes.py:527: FutureWarning: Passing (type, 1) or '1type' as a synonym of type is deprecated; in a future version of numpy, it will be understood as (type, (1,)) / '(1,)type'.\n",
      "  _np_quint8 = np.dtype([(\"quint8\", np.uint8, 1)])\n",
      "/home/ubuntu/anaconda3/envs/py3-mink/lib/python3.7/site-packages/tensorflow/python/framework/dtypes.py:528: FutureWarning: Passing (type, 1) or '1type' as a synonym of type is deprecated; in a future version of numpy, it will be understood as (type, (1,)) / '(1,)type'.\n",
      "  _np_qint16 = np.dtype([(\"qint16\", np.int16, 1)])\n",
      "/home/ubuntu/anaconda3/envs/py3-mink/lib/python3.7/site-packages/tensorflow/python/framework/dtypes.py:529: FutureWarning: Passing (type, 1) or '1type' as a synonym of type is deprecated; in a future version of numpy, it will be understood as (type, (1,)) / '(1,)type'.\n",
      "  _np_quint16 = np.dtype([(\"quint16\", np.uint16, 1)])\n",
      "/home/ubuntu/anaconda3/envs/py3-mink/lib/python3.7/site-packages/tensorflow/python/framework/dtypes.py:530: FutureWarning: Passing (type, 1) or '1type' as a synonym of type is deprecated; in a future version of numpy, it will be understood as (type, (1,)) / '(1,)type'.\n",
      "  _np_qint32 = np.dtype([(\"qint32\", np.int32, 1)])\n",
      "/home/ubuntu/anaconda3/envs/py3-mink/lib/python3.7/site-packages/tensorflow/python/framework/dtypes.py:535: FutureWarning: Passing (type, 1) or '1type' as a synonym of type is deprecated; in a future version of numpy, it will be understood as (type, (1,)) / '(1,)type'.\n",
      "  np_resource = np.dtype([(\"resource\", np.ubyte, 1)])\n"
     ]
    }
   ],
   "source": [
    "from PCCModel import PCC\n",
    "pcc = PCC(channels=8).to(device)"
   ]
  },
  {
   "cell_type": "code",
   "execution_count": 16,
   "metadata": {},
   "outputs": [],
   "source": [
    "ckptdir = './ckpts/c8_a2_32000.pth'"
   ]
  },
  {
   "cell_type": "code",
   "execution_count": 17,
   "metadata": {},
   "outputs": [
    {
     "name": "stdout",
     "output_type": "stream",
     "text": [
      "load from  ./ckpts/c8_a2_32000.pth\n"
     ]
    }
   ],
   "source": [
    "if os.path.exists(ckptdir):\n",
    "    ckpt = torch.load(ckptdir)\n",
    "    pcc.encoder.load_state_dict(ckpt['encoder'])\n",
    "    pcc.decoder.load_state_dict(ckpt['decoder'])\n",
    "    pcc.entropy_bottleneck.load_state_dict(ckpt['entropy_bottleneck'])\n",
    "    print('load from ', ckptdir)\n",
    "else:\n",
    "    print('load failed!')\n",
    "# print(\"parameter number:\", sum(p.numel() for p in pcc.parameters()))"
   ]
  },
  {
   "cell_type": "markdown",
   "metadata": {},
   "source": [
    "## encode"
   ]
  },
  {
   "cell_type": "code",
   "execution_count": 18,
   "metadata": {},
   "outputs": [
    {
     "name": "stdout",
     "output_type": "stream",
     "text": [
      "encoder time: 0.0398 s\n",
      "downsample: 214491 59085 15415 3883\n"
     ]
    }
   ],
   "source": [
    "import time\n",
    "start = time.time()\n",
    "with torch.no_grad():\n",
    "    ys = pcc.encoder(x)\n",
    "    y = ME.SparseTensor(ys[0].F, coords=ys[0].C, tensor_stride=8).to(device)\n",
    "print('encoder time:', round(time.time() - start, 4), 's')\n",
    "print(\"downsample:\", x.C.shape[0], ys[-1].C.shape[0], ys[-2].C.shape[0], ys[-3].C.shape[0])"
   ]
  },
  {
   "cell_type": "code",
   "execution_count": 19,
   "metadata": {},
   "outputs": [],
   "source": [
    "# # calculate flops and paras\n",
    "# from thop import profile\n",
    "# from utils.flops import count_sparse_conv, count_sparse_deconv\n",
    "# flops_e, params_e = profile(pcc.encoder, inputs=(x, ), \n",
    "#                        custom_ops={ME.MinkowskiConvolution:count_sparse_conv})\n",
    "# print(flops_e/2/pow(10,9), params_e)"
   ]
  },
  {
   "cell_type": "code",
   "execution_count": 20,
   "metadata": {},
   "outputs": [
    {
     "name": "stdout",
     "output_type": "stream",
     "text": [
      "3883\n",
      "coords encode time: 0.0599\n",
      "coords 0.031367 bpp\n"
     ]
    }
   ],
   "source": [
    "from utils.gpcc_wrapper import load_ply_data, write_ply_data, gpcc_encode, gpcc_decode\n",
    "\n",
    "y_coords = (y.decomposed_coordinates[0]//y.tensor_stride[0]).numpy().astype('int')\n",
    "print(y_coords.shape[0])\n",
    "plyname = prefix+'_coords.ply'\n",
    "write_ply_data(plyname, y_coords)\n",
    "binname = prefix+'_coords.bin'\n",
    "start = time.time()\n",
    "gpcc_encode(plyname, binname, False)\n",
    "print('coords encode time:', round(time.time() - start, 4))\n",
    "\n",
    "bin_bytes = os.path.getsize(binname)\n",
    "coords_bpp = 8*bin_bytes / num_points\n",
    "print(\"coords\", round(coords_bpp, 6), \"bpp\")"
   ]
  },
  {
   "cell_type": "code",
   "execution_count": 21,
   "metadata": {},
   "outputs": [
    {
     "name": "stdout",
     "output_type": "stream",
     "text": [
      "feats: 0.131 bpp\n"
     ]
    }
   ],
   "source": [
    "from eval import sort_sparse_tensor\n",
    "coords_sorted, feats_sorted, _ = sort_sparse_tensor(y.C, y.F)# SORT\n",
    "# add coords \n",
    "y_sorted = ME.SparseTensor(feats_sorted, coords_sorted, tensor_stride=8).to(device)\n",
    "\n",
    "strings, min_v, max_v = pcc.entropy_bottleneck.compress(y_sorted.F, device=device)\n",
    "shape = y_sorted.F.shape\n",
    "\n",
    "print(\"feats:\", round(len(strings)*8 / num_points, 4), 'bpp')"
   ]
  },
  {
   "cell_type": "markdown",
   "metadata": {},
   "source": [
    "## decode"
   ]
  },
  {
   "cell_type": "code",
   "execution_count": 22,
   "metadata": {},
   "outputs": [
    {
     "name": "stdout",
     "output_type": "stream",
     "text": [
      "3883\n"
     ]
    }
   ],
   "source": [
    "plyname_rec = prefix+'_kernel_rec.ply'\n",
    "gpcc_decode(binname, plyname_rec, False)\n",
    "# avs_pcc_decode(binname, plyname_rec, False)\n",
    "y_coords_rec = load_ply_data(plyname_rec)\n",
    "print(y_coords_rec.shape[0])"
   ]
  },
  {
   "cell_type": "code",
   "execution_count": 23,
   "metadata": {},
   "outputs": [
    {
     "name": "stdout",
     "output_type": "stream",
     "text": [
      "True\n"
     ]
    }
   ],
   "source": [
    "feats_rec = pcc.entropy_bottleneck.decompress(strings, min_v, max_v, shape, device=device)\n",
    "# check\n",
    "feats_tilde, likelihood = pcc.entropy_bottleneck(y_sorted.F, False, device)\n",
    "print(torch.max(torch.abs(feats_rec - feats_tilde)).cpu().detach().numpy() == 0)"
   ]
  },
  {
   "cell_type": "code",
   "execution_count": 24,
   "metadata": {},
   "outputs": [],
   "source": [
    "# get feature shape\n",
    "from eval import sort_xyz\n",
    "coords_rec = sort_xyz(y_coords_rec)*8"
   ]
  },
  {
   "cell_type": "code",
   "execution_count": 25,
   "metadata": {},
   "outputs": [],
   "source": [
    "# add batch index\n",
    "coords_rec, feats_rec = ME.utils.sparse_collate([coords_rec], [feats_rec])"
   ]
  },
  {
   "cell_type": "code",
   "execution_count": 26,
   "metadata": {},
   "outputs": [],
   "source": [
    "y_rec = ME.SparseTensor(feats_rec, coords_rec.int(), tensor_stride=8).to(device)"
   ]
  },
  {
   "cell_type": "code",
   "execution_count": 27,
   "metadata": {},
   "outputs": [
    {
     "name": "stdout",
     "output_type": "stream",
     "text": [
      "True\n",
      "Quantization Error: 0.49996465\n"
     ]
    }
   ],
   "source": [
    "# check\n",
    "print((y_sorted.C.cpu().detach().numpy() == y_rec.C.cpu().detach().numpy()).all())\n",
    "print(\"Quantization Error:\", (y_sorted.F - y_rec.F).abs().max().cpu().detach().numpy())"
   ]
  },
  {
   "cell_type": "code",
   "execution_count": 28,
   "metadata": {},
   "outputs": [],
   "source": [
    "target_label=ys[1:]+[x]\n",
    "# target_label = [len(ys[1]), len(ys[2]), len(x)]\n",
    "# print(target_label)"
   ]
  },
  {
   "cell_type": "code",
   "execution_count": 29,
   "metadata": {},
   "outputs": [
    {
     "name": "stdout",
     "output_type": "stream",
     "text": [
      "2.3188 s\n"
     ]
    }
   ],
   "source": [
    "start = time.time()\n",
    "with torch.no_grad():\n",
    "    out, out_cls, targets, keeps = pcc.decoder(y_rec, target_label, \n",
    "                                               adaptive=True, rhos=[1.0, 1.0, 1.0], training=False)\n",
    "\n",
    "print(round(time.time()-start, 4), 's')"
   ]
  },
  {
   "cell_type": "code",
   "execution_count": 30,
   "metadata": {},
   "outputs": [],
   "source": [
    "# # calculate flops and paras\n",
    "# from thop import profile\n",
    "# from utils.flops import count_sparse_conv, count_sparse_deconv\n",
    "# flops_d, params_d = profile(pcc.decoder, inputs=(y_rec, target_label, True), \n",
    "#                        custom_ops={ME.MinkowskiConvolution:count_sparse_conv, \n",
    "#                                   ME.MinkowskiConvolutionTranspose:count_sparse_deconv})\n",
    "# print(flops_d/2/pow(10, 9), params_d)"
   ]
  },
  {
   "cell_type": "code",
   "execution_count": 31,
   "metadata": {},
   "outputs": [
    {
     "name": "stdout",
     "output_type": "stream",
     "text": [
      "downsample: 3883 15415 59085 214491\n",
      "upsample: 31064 123320 472680\n",
      "ratio: 2.02 2.09 2.2\n"
     ]
    }
   ],
   "source": [
    "print(\"downsample:\", ys[0].shape[0], ys[1].shape[0], ys[2].shape[0], x.shape[0])\n",
    "print(\"upsample:\", out_cls[0].shape[0], out_cls[1].shape[0], out_cls[2].shape[0])\n",
    "print(\"ratio:\", round(out_cls[0].shape[0]/ys[1].shape[0], 2), \n",
    "              round(out_cls[1].shape[0]/ys[2].shape[0], 2), \n",
    "              round(out_cls[2].shape[0]/x.shape[0], 2))"
   ]
  },
  {
   "cell_type": "markdown",
   "metadata": {},
   "source": [
    "## Metrics"
   ]
  },
  {
   "cell_type": "code",
   "execution_count": 32,
   "metadata": {},
   "outputs": [
    {
     "name": "stdout",
     "output_type": "stream",
     "text": [
      "214491\n",
      "eval bpp: 0.131\n",
      "actual bpp: 0.131\n",
      "kerenl bpp: 0.031\n",
      "all bpp: 0.162\n"
     ]
    }
   ],
   "source": [
    "eval_bpp = torch.sum(torch.log(likelihood)) / -(torch.log(torch.Tensor([2.0]).cuda())) / num_points\n",
    "actual_bpp = len(strings) * 8 / num_points\n",
    "print(num_points)\n",
    "print('eval bpp:', round(eval_bpp.detach().cpu().numpy()[0], 3))\n",
    "print('actual bpp:', round(actual_bpp, 3))\n",
    "print('kerenl bpp:', round(coords_bpp, 3))\n",
    "print('all bpp:', round(actual_bpp + coords_bpp, 3))"
   ]
  },
  {
   "cell_type": "code",
   "execution_count": 33,
   "metadata": {},
   "outputs": [
    {
     "name": "stderr",
     "output_type": "stream",
     "text": [
      "/home/ubuntu/Desktop/wjq/AVS/PCGCv2/utils/loss.py:16: UserWarning: This overload of nonzero is deprecated:\n",
      "\tnonzero()\n",
      "Consider using one of the following signatures instead:\n",
      "\tnonzero(*, bool as_tuple) (Triggered internally at  /pytorch/torch/csrc/utils/python_arg_parser.cpp:766.)\n",
      "  TP = (keep * target).nonzero().shape[0]\n"
     ]
    },
    {
     "name": "stdout",
     "output_type": "stream",
     "text": [
      "[[0.991, 0.991, 0.9823], [0.9265, 0.9301, 0.8662], [0.8072, 0.8381, 0.6983]]\n"
     ]
    }
   ],
   "source": [
    "crit = torch.nn.BCEWithLogitsLoss()\n",
    "from utils.loss import get_metrics\n",
    "\n",
    "losses = []\n",
    "for out_cl, target in zip(out_cls, targets):\n",
    "    curr_loss = crit(out_cl.F.squeeze(),\n",
    "                   target.type(out_cl.F.dtype).to(device))\n",
    "    losses.append(curr_loss.item())\n",
    "\n",
    "metrics = []\n",
    "for keep, target in zip(keeps, targets):\n",
    "    curr_metric = get_metrics(keep, target.bool())\n",
    "    metrics.append(curr_metric)\n",
    "    \n",
    "print(metrics)"
   ]
  },
  {
   "cell_type": "code",
   "execution_count": 34,
   "metadata": {},
   "outputs": [
    {
     "data": {
      "image/png": "[encoded data removed]",
      "text/plain": [
       "<Figure size 1296x288 with 3 Axes>"
      ]
     },
     "metadata": {
      "needs_background": "light"
     },
     "output_type": "display_data"
    }
   ],
   "source": [
    "import matplotlib.pylab  as plt\n",
    "\n",
    "# plt.figure(\"1\")\n",
    "# plt.title('CPU')\n",
    "plt.figure(figsize=(18, 4))\n",
    "plt.subplot(131)\n",
    "n, bins, patches = plt.hist(out_cls[0].F.cpu().detach().numpy().flatten(), bins=128)\n",
    "# plt.show()\n",
    "# plt.figure(\"2\")\n",
    "plt.subplot(132)\n",
    "n, bins, patches = plt.hist(out_cls[1].F.cpu().detach().numpy().flatten(), bins=128)\n",
    "# plt.show()\n",
    "# plt.figure(\"3\")\n",
    "plt.subplot(133)\n",
    "n, bins, patches = plt.hist(out_cls[2].F.cpu().detach().numpy().flatten(), bins=128)\n",
    "plt.show()\n"
   ]
  },
  {
   "cell_type": "code",
   "execution_count": 35,
   "metadata": {},
   "outputs": [
    {
     "name": "stdout",
     "output_type": "stream",
     "text": [
      "writing time: 1 2\n"
     ]
    }
   ],
   "source": [
    "# ori_pcd = o3d.geometry.PointCloud()\n",
    "# # From numpy to Open3D\n",
    "# ori_pcd.points = o3d.utility.Vector3dVector(x.decomposed_coordinates[0])\n",
    "# # ori_pcd.estimate_normals(search_param=o3d.geometry.KDTreeSearchParamHybrid(radius=20, max_nn=20))\n",
    "\n",
    "# orifile = prefix+'_ori.ply'\n",
    "# os.system('rm '+ orifile)\n",
    "# o3d.io.write_point_cloud(orifile, ori_pcd, write_ascii=True)\n",
    "start = time.time()\n",
    "rec_pcd = o3d.geometry.PointCloud()\n",
    "# From numpy to Open3D\n",
    "rec_pcd.points = o3d.utility.Vector3dVector(out.decomposed_coordinates[0])\n",
    "if voxel_size > 1:\n",
    "    rec_pcd.points = o3d.utility.Vector3dVector(out.decomposed_coordinates[0]*voxel_size)\n",
    "# ori_pcd.estimate_normals(search_param=o3d.geometry.KDTreeSearchParamHybrid(radius=20, max_nn=20))\n",
    "recfile = prefix+'_rec.ply'\n",
    "os.system('rm '+ recfile)\n",
    "o3d.io.write_point_cloud(recfile, rec_pcd, write_ascii=True)\n",
    "print(\"writing time:\", round(time.time() - start), 2)"
   ]
  },
  {
   "cell_type": "code",
   "execution_count": 36,
   "metadata": {},
   "outputs": [
    {
     "name": "stdout",
     "output_type": "stream",
     "text": [
      "b'PCC quality measurement software, version 0.13.4\\n'\n",
      "b'\\n'\n",
      "b'infile1:        longdress_vox10_1300_n_part0.ply\\n'\n",
      "b'infile2:        longdress_vox10_1300_n_part0_rec.ply\\n'\n",
      "b'normal1:        \\n'\n",
      "b'singlePass:     0\\n'\n",
      "b'hausdorff:      1\\n'\n",
      "b'color:          0\\n'\n",
      "b'lidar:          0\\n'\n",
      "b'resolution:     1023\\n'\n",
      "b'dropDuplicates: 2\\n'\n",
      "b'neighborsProc:  1\\n'\n",
      "b'averageNormals: 1\\n'\n",
      "b'nbThreads:      1\\n'\n",
      "b'\\n'\n",
      "b'Verifying if the data is loaded correctly.. The last point is: 290 280 285\\n'\n",
      "b'Reading file 1 done.\\n'\n",
      "b'Verifying if the data is loaded correctly.. The last point is: 369 68 205\\n'\n",
      "b'Reading file 2 done.\\n'\n",
      "b'Imported intrinsic resoluiton: 1023\\n'\n",
      "b'Peak distance for PSNR: 1023\\n'\n",
      "b'Point cloud sizes for org version, dec version, and the scaling ratio: 214491, 214491, 1\\n'\n",
      "b'Normals prepared.\\n'\n",
      "b'\\n'\n",
      "b'1. Use infile1 (A) as reference, loop over A, use normals on B. (A->B).\\n'\n",
      "b'   mse1      (p2point): 0.209412\\n'\n",
      "b'   mse1,PSNR (p2point): 71.7587\\n'\n",
      "b'   h.       1(p2point): 19\\n'\n",
      "b'   h.,PSNR  1(p2point): 52.1812\\n'\n",
      "b'2. Use infile2 (B) as reference, loop over B, use normals on A. (B->A).\\n'\n",
      "b'   mse2      (p2point): 0.195015\\n'\n",
      "b'   mse2,PSNR (p2point): 72.068\\n'\n",
      "b'   h.       2(p2point): 6\\n'\n",
      "b'   h.,PSNR  2(p2point): 57.1872\\n'\n",
      "b'3. Final (symmetric).\\n'\n",
      "b'   mseF      (p2point): 0.209412\\n'\n",
      "b'   mseF,PSNR (p2point): 71.7587\\n'\n",
      "b'   h.        (p2point): 19\\n'\n",
      "b'   h.,PSNR   (p2point): 52.1812\\n'\n",
      "b'Job done! 1.656 seconds elapsed (excluding the time to load the point clouds).\\n'\n",
      "None\n"
     ]
    }
   ],
   "source": [
    "import subprocess\n",
    "resolution = 1024\n",
    "\n",
    "orifile = filedir\n",
    "subp=subprocess.Popen(\"utils/pc_error_d \" +\n",
    "                      ' -a '+orifile+ \n",
    "                      ' -b '+recfile+ \n",
    "#                       ' -n '+orifile+\n",
    "                      ' --hausdorff=1 '+ \n",
    "                      ' --resolution='+str(resolution-1), \n",
    "                      shell=True, stdout=subprocess.PIPE)\n",
    "c=subp.stdout.readline()\n",
    "while c:\n",
    "    print(c)\n",
    "    c=subp.stdout.readline()\n",
    "print(subp.returncode)"
   ]
  },
  {
   "cell_type": "code",
   "execution_count": null,
   "metadata": {},
   "outputs": [],
   "source": []
  }
 ],
 "metadata": {
  "kernelspec": {
   "display_name": "Python 3.7.4 64-bit ('py3-mink')",
   "language": "python",
   "name": "python37464bitpy3mink4407d9db0a904ae9bbbb2d5ff9bf7666"
  },
  "language_info": {
   "codemirror_mode": {
    "name": "ipython",
    "version": 3
   },
   "file_extension": ".py",
   "mimetype": "text/x-python",
   "name": "python",
   "nbconvert_exporter": "python",
   "pygments_lexer": "ipython3",
   "version": "3.7.9"
  }
 },
 "nbformat": 4,
 "nbformat_minor": 4
}
